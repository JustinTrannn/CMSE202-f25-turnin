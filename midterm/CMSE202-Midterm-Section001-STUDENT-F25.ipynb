{
 "cells": [
  {
   "cell_type": "markdown",
   "id": "3def3efc",
   "metadata": {
    "tags": []
   },
   "source": [
    "# CMSE 202 Midterm (Section 001 - Fall 2025)\n",
    "\n",
    "The goal of this midterm is to give you the opportunity to test out some of the skills that you've developed thus far this semester. In particular, you'll practice setting up a GitHub repository, committing and pushing repository changes, downloading data with command line tools, performing some data analysis, possibly using a new Python package, and writing a python class. You should find that you have all of the skills necessary to complete this exam with even just eight weeks of CMSE 202 under your belt!\n",
    "\n",
    "You are encouraged to look through the entire exam before you get started so that you can appropriately budget your time and understand the broad goals of the exam. Once you've read through it, try doing Parts 0 and 1 first so that you have your repository set up and you download all necessary data files as they will be necessary to complete the assigned tasks. Let your instructor know right away if you have problems downloading the data!\n",
    "\n",
    "The exam is set up so that even if you get stuck on one part there are opportunities to get points on the other parts, so consider jumping ahead if you feel like you aren't making progress and then come back later if you have time. If you have any questions during the exam, you may ask the instructor, the TA, or the LA privately: simply raise your hand and one of us will come over to you. \n",
    "\n",
    "\n",
    "**Important note about using online resources**: This exam is \"open internet\". That means that you can look up documentation, google how to accomplish certain Python tasks, etc. Being able to effectively use the internet for computational modeling and data science is a very important skill, so we want to make sure you have the opportunity to exercise that skill. **However: The use of any person-to-person communication software or generative AI tools is absolutely not acceptable.** If you are seen accessing your email, using a collaborative cloud storage or document software (e.g. Slack, Google Documents), or generative AIs (e.g. ChatGPT), you will be at risk for receiving a zero on the exam. Google often does give an AI summary regardless of search, so to avoid misusing AI on the exam you should not copy-paste any of the questions from the exam directly into Google. \n",
    "\n",
    "**Keep your eyes on your screen!** Unfortunately, there isn't enough space in the room for everyone to sit at their own table so please keep your eyes on your own screen. This exam is designed to give *you* the opportunity to show the instructor what you can do and you should hold yourself accountable for maintaining a high level of academic integrity. If any of the instructors observe suspicious behavior, you will, again, risk receiving a zero.\n",
    "\n",
    "**Github Issues:** If at any point you encounter an issue with Github, such as a merge conflict, rather than spending your limited exam time trying to fix it, just write the code you would use to achieve the task in the notebook and move on. If you note the issue you encountered and have correct code in your notebook, you can still receive full credit. "
   ]
  },
  {
   "cell_type": "markdown",
   "id": "6b0b3d3a",
   "metadata": {},
   "source": [
    "---\n",
    "## Part 0: Academic integrity statement\n",
    "\n",
    "Read the following statement and edit the markdown text to put your name in the statement. This is your commitment to doing your own authentic work on this exam."
   ]
  },
  {
   "cell_type": "markdown",
   "id": "8e3dc4df",
   "metadata": {
    "pycharm": {
     "name": "#%% md\n"
    }
   },
   "source": [
    "> I, **Justin Tran**, affirm that this exam represents my own authetic work, without the use of any unpermitted aids or generative AIs or person-to-person communication. I understand that this exam an an opportunity to showcase my own progress in developing and improving my computational skills and have done my best to demonstrate those skills."
   ]
  },
  {
   "cell_type": "markdown",
   "id": "435ee396",
   "metadata": {
    "tags": []
   },
   "source": [
    "## Part 1: Add to your Git repository to track your progress on your exam (10 points total)\n",
    "\n",
    "Before you get too far along in the exam, you're going to add it to the `cmse202-f25-turnin` repository you created in class (or in Homework 1) so that you can track your progress on the exam and preserve the final version that you turn in. In order to do this you need to\n",
    "\n",
    "1. Navigate to your `cmse202-f25-turnin` repository and create a new directory called `midterm`.\n",
    "2. Move this notebook into that **new directory** in your repository, then **add it and commit it to your repository**.\n",
    "3. Finally, to test that everything is working, \"git push\" the file so that it ends up in your GitHub repository.\n",
    "\n",
    "**Important**: Double check you've added your Professor and your TA as collaborators to your \"turnin\" respository (you should have done this in the previous homework assignment).\n",
    "\n",
    "**Important**: Make sure that the version of this notebook that you are working on is the same one that you just added to your repository! If you are working on a different copy of the noteobok, **none of your changes will be tracked**!\n",
    "\n",
    "The file should now show up on your GitHub account in the `cmse202-f25-turnin` repository inside the `midterm` directory you just created.  Periodically, **you'll be asked to commit your changes to the repository and push them to the remote GitHub location**. It can be good to get into a habit of committing your changes any time you make a significant modification."
   ]
  },
  {
   "cell_type": "markdown",
   "id": "290bab71",
   "metadata": {},
   "source": [
    "&#9989; **Question 1.1 Put all the Git commands you used to add your midterm folder and file to your GitHub repository (2 points)**:"
   ]
  },
  {
   "cell_type": "code",
   "execution_count": 1,
   "id": "77244e3d",
   "metadata": {},
   "outputs": [
    {
     "ename": "SyntaxError",
     "evalue": "invalid syntax (2755700878.py, line 2)",
     "output_type": "error",
     "traceback": [
      "  \u001b[36mCell\u001b[39m\u001b[36m \u001b[39m\u001b[32mIn[1]\u001b[39m\u001b[32m, line 2\u001b[39m\n\u001b[31m    \u001b[39m\u001b[31mmkdir midterm\u001b[39m\n          ^\n\u001b[31mSyntaxError\u001b[39m\u001b[31m:\u001b[39m invalid syntax\n"
     ]
    }
   ],
   "source": [
    "### Put your code here:\n",
    "mkdir midterm\n",
    "mv CMSE202-Midterm-Section001-STUDENT-F25.ipynb CMSE202-f25-turnin\n",
    "mv CMSE202-Midterm-Section001-STUDENT-F25.ipynb midterm/"
   ]
  },
  {
   "cell_type": "markdown",
   "id": "903ce347",
   "metadata": {},
   "source": [
    "&#9989; **Question 1.2 Put the code the instructor will need to clone your repository here (2 points)**:\n"
   ]
  },
  {
   "cell_type": "code",
   "execution_count": 2,
   "id": "adf93908",
   "metadata": {},
   "outputs": [
    {
     "ename": "SyntaxError",
     "evalue": "invalid syntax (1275380556.py, line 2)",
     "output_type": "error",
     "traceback": [
      "  \u001b[36mCell\u001b[39m\u001b[36m \u001b[39m\u001b[32mIn[2]\u001b[39m\u001b[32m, line 2\u001b[39m\n\u001b[31m    \u001b[39m\u001b[31mgit clone https://github.com/JustinTrannn/CMSE202-f25-turnin\u001b[39m\n        ^\n\u001b[31mSyntaxError\u001b[39m\u001b[31m:\u001b[39m invalid syntax\n"
     ]
    }
   ],
   "source": [
    "### Put your code here:\n",
    "git clone https://github.com/JustinTrannn/CMSE202-f25-turnin\n"
   ]
  },
  {
   "cell_type": "markdown",
   "id": "8239c731",
   "metadata": {},
   "source": [
    "&#9989; **Question 1.3 What code would you use to check the commit history of your Github repository. Write out the code below. (2 points)**:\n"
   ]
  },
  {
   "cell_type": "code",
   "execution_count": 3,
   "id": "2c84393a",
   "metadata": {},
   "outputs": [
    {
     "ename": "SyntaxError",
     "evalue": "invalid syntax (1577854080.py, line 2)",
     "output_type": "error",
     "traceback": [
      "  \u001b[36mCell\u001b[39m\u001b[36m \u001b[39m\u001b[32mIn[3]\u001b[39m\u001b[32m, line 2\u001b[39m\n\u001b[31m    \u001b[39m\u001b[31mgit log\u001b[39m\n        ^\n\u001b[31mSyntaxError\u001b[39m\u001b[31m:\u001b[39m invalid syntax\n"
     ]
    }
   ],
   "source": [
    "### Put your code here:\n",
    "git log"
   ]
  },
  {
   "cell_type": "markdown",
   "id": "39b5c084",
   "metadata": {},
   "source": [
    "&#9989; **Question 1.4 (4 points)**: After completing each of Part 2, Part 3, Part 4, and Part 5 below, save your notebook, commit the changes to your Git repository using a descriptive commit message, and push the changes to GitHub. Note that there are large &#128721; **STOP** signs reminding you to do this after each part. **Note:** If Github issues are encountered, just write the code you would use to commit and push changes under each of the stop signs. "
   ]
  },
  {
   "cell_type": "markdown",
   "id": "2a33af2b",
   "metadata": {},
   "source": [
    "## Part 2: Downloading and analyzing unfamiliar data (12 points)\n",
    "\n"
   ]
  },
  {
   "cell_type": "markdown",
   "id": "60a3afbd",
   "metadata": {},
   "source": [
    "In this section you will be tasked with downloading and exploring a specific data set. "
   ]
  },
  {
   "cell_type": "markdown",
   "id": "fdbaac8f",
   "metadata": {},
   "source": [
    "&#9989; **Question 2.1  Use the `curl` function we learned in class to downlaod the (https://raw.githubusercontent.com/hoolagans/CMSE202_FS24/refs/heads/main/CollegePlacement.csv) dataset to your working directory. Include the code you used to download the dataset below.  (2 points)**:\n"
   ]
  },
  {
   "cell_type": "code",
   "execution_count": 4,
   "id": "acd32e74",
   "metadata": {},
   "outputs": [
    {
     "name": "stdout",
     "output_type": "stream",
     "text": [
      "  % Total    % Received % Xferd  Average Speed   Time    Time     Time  Current\n",
      "                                 Dload  Upload   Total   Spent    Left  Speed\n",
      "100  353k  100  353k    0     0  6680k      0 --:--:-- --:--:-- --:--:-- 6800k\n"
     ]
    }
   ],
   "source": [
    "### Put your code here:\n",
    "!curl -O https://raw.githubusercontent.com/hoolagans/CMSE202_FS24/refs/heads/main/CollegePlacement.csv\n"
   ]
  },
  {
   "cell_type": "markdown",
   "id": "5c1ff7ba",
   "metadata": {},
   "source": [
    "&#9989; **Question 2.2 Read in the dataset as a Pandas data frame and then display the first 4 rows. (2 points)**: \n",
    "\n"
   ]
  },
  {
   "cell_type": "code",
   "execution_count": 5,
   "id": "0eabef99",
   "metadata": {},
   "outputs": [
    {
     "data": {
      "text/html": [
       "<div>\n",
       "<style scoped>\n",
       "    .dataframe tbody tr th:only-of-type {\n",
       "        vertical-align: middle;\n",
       "    }\n",
       "\n",
       "    .dataframe tbody tr th {\n",
       "        vertical-align: top;\n",
       "    }\n",
       "\n",
       "    .dataframe thead th {\n",
       "        text-align: right;\n",
       "    }\n",
       "</style>\n",
       "<table border=\"1\" class=\"dataframe\">\n",
       "  <thead>\n",
       "    <tr style=\"text-align: right;\">\n",
       "      <th></th>\n",
       "      <th>College_ID</th>\n",
       "      <th>IQ</th>\n",
       "      <th>Prev_Sem_Result</th>\n",
       "      <th>CGPA</th>\n",
       "      <th>Academic_Performance</th>\n",
       "      <th>Internship_Experience</th>\n",
       "      <th>Extra_Curricular_Score</th>\n",
       "      <th>Communication_Skills</th>\n",
       "      <th>Projects_Completed</th>\n",
       "      <th>Placement</th>\n",
       "    </tr>\n",
       "  </thead>\n",
       "  <tbody>\n",
       "    <tr>\n",
       "      <th>0</th>\n",
       "      <td>CLG0030</td>\n",
       "      <td>107</td>\n",
       "      <td>6.61</td>\n",
       "      <td>6.28</td>\n",
       "      <td>8</td>\n",
       "      <td>No</td>\n",
       "      <td>8</td>\n",
       "      <td>8</td>\n",
       "      <td>4</td>\n",
       "      <td>No</td>\n",
       "    </tr>\n",
       "    <tr>\n",
       "      <th>1</th>\n",
       "      <td>CLG0061</td>\n",
       "      <td>97</td>\n",
       "      <td>5.52</td>\n",
       "      <td>5.37</td>\n",
       "      <td>8</td>\n",
       "      <td>No</td>\n",
       "      <td>7</td>\n",
       "      <td>8</td>\n",
       "      <td>0</td>\n",
       "      <td>No</td>\n",
       "    </tr>\n",
       "    <tr>\n",
       "      <th>2</th>\n",
       "      <td>CLG0036</td>\n",
       "      <td>109</td>\n",
       "      <td>5.36</td>\n",
       "      <td>5.83</td>\n",
       "      <td>9</td>\n",
       "      <td>No</td>\n",
       "      <td>3</td>\n",
       "      <td>1</td>\n",
       "      <td>1</td>\n",
       "      <td>No</td>\n",
       "    </tr>\n",
       "    <tr>\n",
       "      <th>3</th>\n",
       "      <td>CLG0055</td>\n",
       "      <td>122</td>\n",
       "      <td>5.47</td>\n",
       "      <td>5.75</td>\n",
       "      <td>6</td>\n",
       "      <td>Yes</td>\n",
       "      <td>1</td>\n",
       "      <td>6</td>\n",
       "      <td>1</td>\n",
       "      <td>No</td>\n",
       "    </tr>\n",
       "  </tbody>\n",
       "</table>\n",
       "</div>"
      ],
      "text/plain": [
       "  College_ID   IQ  Prev_Sem_Result  CGPA  Academic_Performance  \\\n",
       "0    CLG0030  107             6.61  6.28                     8   \n",
       "1    CLG0061   97             5.52  5.37                     8   \n",
       "2    CLG0036  109             5.36  5.83                     9   \n",
       "3    CLG0055  122             5.47  5.75                     6   \n",
       "\n",
       "  Internship_Experience  Extra_Curricular_Score  Communication_Skills  \\\n",
       "0                    No                       8                     8   \n",
       "1                    No                       7                     8   \n",
       "2                    No                       3                     1   \n",
       "3                   Yes                       1                     6   \n",
       "\n",
       "   Projects_Completed Placement  \n",
       "0                   4        No  \n",
       "1                   0        No  \n",
       "2                   1        No  \n",
       "3                   1        No  "
      ]
     },
     "execution_count": 5,
     "metadata": {},
     "output_type": "execute_result"
    }
   ],
   "source": [
    "### Put your code here:\n",
    "import pandas as pd\n",
    "df = pd.read_csv('CollegePlacement.csv')\n",
    "df.head(4)\n"
   ]
  },
  {
   "cell_type": "markdown",
   "id": "d86e79ad",
   "metadata": {},
   "source": [
    "&#9989; **Question 2.3 Compute the mean value of `CGPA` in the data frame (2 points)**: \n",
    "\n"
   ]
  },
  {
   "cell_type": "code",
   "execution_count": 6,
   "id": "7fa9bffb",
   "metadata": {},
   "outputs": [
    {
     "data": {
      "text/plain": [
       "7.532379"
      ]
     },
     "execution_count": 6,
     "metadata": {},
     "output_type": "execute_result"
    }
   ],
   "source": [
    "### Put your code here:\n",
    "df['CGPA'].mean()\n"
   ]
  },
  {
   "cell_type": "markdown",
   "id": "2e90d1bd",
   "metadata": {},
   "source": [
    "&#9989; **Question 2.4 Make a new data frame from your current data frame that contains only the `IQ` and `CGPA` columns. (2 points)**: \n",
    "\n"
   ]
  },
  {
   "cell_type": "code",
   "execution_count": 7,
   "id": "b777a6af",
   "metadata": {},
   "outputs": [
    {
     "data": {
      "text/html": [
       "<div>\n",
       "<style scoped>\n",
       "    .dataframe tbody tr th:only-of-type {\n",
       "        vertical-align: middle;\n",
       "    }\n",
       "\n",
       "    .dataframe tbody tr th {\n",
       "        vertical-align: top;\n",
       "    }\n",
       "\n",
       "    .dataframe thead th {\n",
       "        text-align: right;\n",
       "    }\n",
       "</style>\n",
       "<table border=\"1\" class=\"dataframe\">\n",
       "  <thead>\n",
       "    <tr style=\"text-align: right;\">\n",
       "      <th></th>\n",
       "      <th>IQ</th>\n",
       "      <th>CGPA</th>\n",
       "    </tr>\n",
       "  </thead>\n",
       "  <tbody>\n",
       "    <tr>\n",
       "      <th>0</th>\n",
       "      <td>107</td>\n",
       "      <td>6.28</td>\n",
       "    </tr>\n",
       "    <tr>\n",
       "      <th>1</th>\n",
       "      <td>97</td>\n",
       "      <td>5.37</td>\n",
       "    </tr>\n",
       "    <tr>\n",
       "      <th>2</th>\n",
       "      <td>109</td>\n",
       "      <td>5.83</td>\n",
       "    </tr>\n",
       "    <tr>\n",
       "      <th>3</th>\n",
       "      <td>122</td>\n",
       "      <td>5.75</td>\n",
       "    </tr>\n",
       "    <tr>\n",
       "      <th>4</th>\n",
       "      <td>96</td>\n",
       "      <td>7.69</td>\n",
       "    </tr>\n",
       "    <tr>\n",
       "      <th>...</th>\n",
       "      <td>...</td>\n",
       "      <td>...</td>\n",
       "    </tr>\n",
       "    <tr>\n",
       "      <th>9995</th>\n",
       "      <td>119</td>\n",
       "      <td>8.29</td>\n",
       "    </tr>\n",
       "    <tr>\n",
       "      <th>9996</th>\n",
       "      <td>70</td>\n",
       "      <td>9.34</td>\n",
       "    </tr>\n",
       "    <tr>\n",
       "      <th>9997</th>\n",
       "      <td>89</td>\n",
       "      <td>6.25</td>\n",
       "    </tr>\n",
       "    <tr>\n",
       "      <th>9998</th>\n",
       "      <td>107</td>\n",
       "      <td>8.92</td>\n",
       "    </tr>\n",
       "    <tr>\n",
       "      <th>9999</th>\n",
       "      <td>109</td>\n",
       "      <td>9.77</td>\n",
       "    </tr>\n",
       "  </tbody>\n",
       "</table>\n",
       "<p>10000 rows × 2 columns</p>\n",
       "</div>"
      ],
      "text/plain": [
       "       IQ  CGPA\n",
       "0     107  6.28\n",
       "1      97  5.37\n",
       "2     109  5.83\n",
       "3     122  5.75\n",
       "4      96  7.69\n",
       "...   ...   ...\n",
       "9995  119  8.29\n",
       "9996   70  9.34\n",
       "9997   89  6.25\n",
       "9998  107  8.92\n",
       "9999  109  9.77\n",
       "\n",
       "[10000 rows x 2 columns]"
      ]
     },
     "execution_count": 7,
     "metadata": {},
     "output_type": "execute_result"
    }
   ],
   "source": [
    "### Put your code here\n",
    "iqcgpa = df[['IQ', 'CGPA']]\n",
    "iqcgpa\n"
   ]
  },
  {
   "cell_type": "markdown",
   "id": "42fe8ccb",
   "metadata": {},
   "source": [
    "&#9989; **Question 2.5 Now using the new data frame, make a scatter plot of `IQ` vs `CGPA`. (2 points)**: \n"
   ]
  },
  {
   "cell_type": "code",
   "execution_count": 8,
   "id": "97b35785",
   "metadata": {},
   "outputs": [
    {
     "data": {
      "text/plain": [
       "<Axes: xlabel='IQ', ylabel='CGPA'>"
      ]
     },
     "execution_count": 8,
     "metadata": {},
     "output_type": "execute_result"
    },
    {
     "data": {
      "image/png": "[encoded data removed]",
      "text/plain": [
       "<Figure size 640x480 with 1 Axes>"
      ]
     },
     "metadata": {},
     "output_type": "display_data"
    }
   ],
   "source": [
    "### Put your code here\n",
    "import seaborn as sns\n",
    "import matplotlib.pyplot as plt\n",
    "\n",
    "sns.scatterplot(data=iqcgpa, x='IQ', y='CGPA')\n",
    "#plt.scatter(x=iqcgpa['IQ'], y=iqcgpa['CGPA'])"
   ]
  },
  {
   "cell_type": "markdown",
   "id": "9732c055",
   "metadata": {},
   "source": [
    "&#9989; **Question 2.6 What do you observe in the plot you generated above? Are there any patterns or trends? (2 points)**: \n"
   ]
  },
  {
   "cell_type": "markdown",
   "id": "d2a1022e",
   "metadata": {},
   "source": [
    "There's a very large mob of points around the 100 IQ section. The outliers are around the 60 mark and 130 mark for IQ. I don't see many patterns or trends from just this graph alone"
   ]
  },
  {
   "cell_type": "markdown",
   "id": "c7fb929b",
   "metadata": {
    "jp-MarkdownHeadingCollapsed": true,
    "tags": []
   },
   "source": [
    "---\n",
    "### &#128721; STOP (1 point)\n",
    "**Pause to commit your changes to your Git repository!**\n",
    "\n",
    "Take a moment to save your notebook, commit  and push the changes to your Git repository.\n",
    "\n",
    "---"
   ]
  },
  {
   "cell_type": "markdown",
   "id": "73b28e5a",
   "metadata": {
    "tags": []
   },
   "source": [
    "## Part 3: Working with a new Python package (10 points)\n",
    "\n",
    "In this section, we will be working with a new Python package called SymPy. This section will focus on your ability to explore and utilize documentation for a Python package you might not be familiar with. You can find the documentation here: https://docs.sympy.org/latest/index.html "
   ]
  },
  {
   "cell_type": "markdown",
   "id": "fac01f60",
   "metadata": {},
   "source": [
    "&#9989; **Question 3.1 Use pip install to install the SymPy package for Jupyter. Include the code you used to install it here. Remember to include the --user flag if using JupyterHub. If you already have SymPy installed, indicate the code you would use to install it. (2 points):** "
   ]
  },
  {
   "cell_type": "code",
   "execution_count": 24,
   "id": "cc86c046",
   "metadata": {},
   "outputs": [
    {
     "name": "stdout",
     "output_type": "stream",
     "text": [
      "Defaulting to user installation because normal site-packages is not writeable\n",
      "Requirement already satisfied: SymPy in /opt/miniconda3/lib/python3.12/site-packages (1.14.0)\n",
      "Requirement already satisfied: mpmath<1.4,>=1.1.0 in /opt/miniconda3/lib/python3.12/site-packages (from SymPy) (1.3.0)\n",
      "Note: you may need to restart the kernel to use updated packages.\n"
     ]
    }
   ],
   "source": [
    "# Put your code here\n",
    "%pip install SymPy"
   ]
  },
  {
   "cell_type": "markdown",
   "id": "6890c0b6",
   "metadata": {},
   "source": [
    "&#9989; **Question 3.2 Following the documentation, import the SymPy library and create 'symbols' for 'x', 'y', and 'z' and store them into three unique variables. (2 points):** "
   ]
  },
  {
   "cell_type": "code",
   "execution_count": 18,
   "id": "8901b66f",
   "metadata": {},
   "outputs": [],
   "source": [
    "# Put your code here\n",
    "from sympy import *\n",
    "x = symbols('x')\n",
    "y = symbols('y')\n",
    "z = symbols('z')"
   ]
  },
  {
   "cell_type": "markdown",
   "id": "caa1c580",
   "metadata": {},
   "source": [
    "&#9989; **Question 3.3 Now using the symbols you created in Question 3.2 generate and display the equation $(x+y+z)/x$ (2 points):** \n"
   ]
  },
  {
   "cell_type": "code",
   "execution_count": 35,
   "id": "54e8f1aa",
   "metadata": {},
   "outputs": [
    {
     "name": "stdout",
     "output_type": "stream",
     "text": [
      "(x + y + z)/x\n"
     ]
    }
   ],
   "source": [
    "# Put your code here\n",
    "equation = (x+y+z)/x\n",
    "print(equation)"
   ]
  },
  {
   "cell_type": "markdown",
   "id": "d4c7f3d3",
   "metadata": {},
   "source": [
    "&#9989; **Question 3.4 Now create a string containing the following equation ($2*x+3*y+6*x*y$) and then use the 'sympify' function to convert it into a symbolic formula. Finally, use SymPy to compute the derivative of the function with respect to the symbol `x`. (4 points):** "
   ]
  },
  {
   "cell_type": "code",
   "execution_count": 40,
   "id": "b6dc5057",
   "metadata": {},
   "outputs": [
    {
     "name": "stdout",
     "output_type": "stream",
     "text": [
      "Equation before: 2*x+3*y+6*x*y\n",
      "\n",
      "Symbolic formula: 6*x*y + 2*x + 3*y\n",
      "\n",
      "Derivative respect to x: 6*y + 2\n"
     ]
    }
   ],
   "source": [
    "# Put your code here\n",
    "from sympy import diff\n",
    "\n",
    "my_string = '2*x+3*y+6*x*y'\n",
    "print(f\"Equation before: {my_string}\")\n",
    "\n",
    "sympified = sympify(my_string)\n",
    "print(f\"\\nSymbolic formula: {simplified}\")\n",
    "\n",
    "derivative = diff(sympified, x)\n",
    "print(f\"\\nDerivative respect to x: {derivative}\")\n"
   ]
  },
  {
   "cell_type": "markdown",
   "id": "d381baf7",
   "metadata": {
    "jp-MarkdownHeadingCollapsed": true,
    "tags": []
   },
   "source": [
    "---\n",
    "### &#128721; STOP (1 point)\n",
    "**Pause to commit your changes to your Git repository!**\n",
    "\n",
    "Take a moment to save your notebook, commit  and push the changes to your Git repository.\n",
    "\n",
    "---"
   ]
  },
  {
   "cell_type": "markdown",
   "id": "07d450c5",
   "metadata": {},
   "source": [
    "## Part 4: Writing a simple Python class (10 points)\n",
    "<img src=\"https://github.com/hoolagans/CMSE202_FS24/blob/main/tennis_player_humanized.gif?raw=true\" width=\"400px\">\n",
    "\n",
    "\n",
    "In this section, we will be developing a Python class for tracking workouts and calories burned. You are given a partially commpleted Python class that you will be asked to complete. "
   ]
  },
  {
   "cell_type": "markdown",
   "id": "8c264b75",
   "metadata": {},
   "source": [
    "&#9989; **Question 4.1 In this section we will use the starter code below to complete the workoutTracking class.  (5 points):** \n",
    "\n",
    "> 1. In the init function we will be tracking three things: `workoutHours`, `caloriesBurned`, and a log of `workouts`. Initially set `workoutHours` to 0, `caloriesBurned` to 0, and `workouts` to an empty list. \n",
    "\n",
    "> 2. Complete the `logRunning` function. The function should take as input the number of hours of running and a number from 1-10 to track the intensity (2 inputs: `hours`, `intensity`). The function should: \n",
    "- update the total number of hours in `workoutHours`\n",
    "- update `caloriesBurned` using the following formula $hours * intensity * 120$\n",
    "- update the workout log to append \"Running\" to the list\n",
    "\n",
    "> 3. Complete the `logTennis` function. The function should take as input the number of hours of tennis and a number from 1-10 to track the intensity (2 inputs: `hours`, `intensity`). The function should: \n",
    "- update the total number of hours in `workoutHours`\n",
    "- update `caloriesBurned` using the following formula $hours * intensity * 110$\n",
    "- update the workout log to append \"Tennis\" to the list\n",
    "\n",
    "> 4. Finish the `getStats` function by completing the two lines indicated by the comments so that the total number of hours and the total calories burned are printed. \n"
   ]
  },
  {
   "cell_type": "code",
   "execution_count": 42,
   "id": "0c7c0e8c",
   "metadata": {},
   "outputs": [],
   "source": [
    "### Put your code here\n",
    "class workoutTracking:\n",
    "    def __init__(self):\n",
    "        self.workoutHours = 0\n",
    "        self.caloriesBurned = 0\n",
    "        self.workouts = []\n",
    "\n",
    "    def logLifting(self, hours, intensity):\n",
    "        self.workoutHours += hours\n",
    "        self.caloriesBurned += hours * intensity * 100 \n",
    "        self.workouts.append((\"Lifting\", hours, intensity))\n",
    "\n",
    "    def logRunning(self, hours, intensity): # Finish this function\n",
    "        self.workoutHours += hours\n",
    "        self.caloriesBurned += hours*intensity*120\n",
    "        self.workouts.append(('Running', hours, intensity))\n",
    "\n",
    "    def logTennis(self, hours, intensity):  # Finish this function\n",
    "        self.workoutHours += hours\n",
    "        self.caloriesBurned += hours*intensity*110\n",
    "        self.workouts.append(('Tennis', hours, intensity))\n",
    "    \n",
    "    def getStats(self):\n",
    "        print(f\"Total Workout Hours: {self.workoutHours}\") ### Complete this line\n",
    "        print(f\"Total Calories Burned: {self.caloriesBurned}\") ### Complete this line\n",
    "        print(\"Workout Log:\")\n",
    "        for workout in self.workouts:\n",
    "            print(f\" - {workout[0]}: {workout[1]} hours at intensity {workout[2]}\")\n",
    "\n"
   ]
  },
  {
   "cell_type": "markdown",
   "id": "cf47f90d",
   "metadata": {},
   "source": [
    "&#9989; **Question 4.2: To demonstrate the code works.(5 points):**\n",
    "\n",
    "> 1. Create a workoutTracking object\n",
    "> 2. Log an hour of lifting at intensity 1.\n",
    "> 3. Log a half hour of running at intensity 2.\n",
    "> 4. Log 1.5 hours of tennis at intensity 3.\n",
    "> 5. Use the `getStats` function to report the tracked information. "
   ]
  },
  {
   "cell_type": "code",
   "execution_count": 44,
   "id": "3506a66d",
   "metadata": {},
   "outputs": [],
   "source": [
    "### Put your code here\n",
    "test_object = workoutTracking()\n",
    "test_object.logLifting(1, 1)\n"
   ]
  },
  {
   "cell_type": "markdown",
   "id": "c159cf9a",
   "metadata": {
    "tags": []
   },
   "source": [
    "---\n",
    "### &#128721; STOP (1 point)\n",
    "**Pause to commit your changes to your Git repository!**\n",
    "\n",
    "Take a moment to save your notebook, commit  and push the changes to your Git repository.\n",
    "\n",
    "---"
   ]
  },
  {
   "cell_type": "markdown",
   "id": "755cce02-7247-4e83-8c8f-9d3355f1512a",
   "metadata": {},
   "source": [
    "## Part 5: Writing a simple Python code using different programming paradigms (11 points)\n",
    "\n",
    "<img src=\"https://github.com/hoolagans/CMSE202_FS24/blob/main/Designer-2.png?raw=true\" width=\"200px\">\n",
    "\n",
    "\n",
    "In this section, you will show your ability to use the three different programming paradigms we learned in class (linear, functional, and object-oriented). **Note: There are many possible correct approaches. We are not looking for a specific answer, just that you correctly used the assigned programming paradigm to solve the problem.**\n",
    "\n",
    "We will simulate the savings and spending of an individual. At each step, you will update the total savings of the individual based on the specific transaction. Total savings should be initialized at \\$0. \n",
    "\n",
    "> 1. It's payday! Collect \\$1000. \n",
    "> 2. It's time to pay bills :\\(. Pay \\$200 for the utilities. \n",
    "> 3. It's your Birthday! Collect \\$350 in birthday money. \n",
    "> 4. It's tax day :\\(. Pay \\$150 to the government. \n",
    "> 5. You bet it all on red, won, and doubled your money. \n",
    "> 6. Print your final savings. "
   ]
  },
  {
   "cell_type": "markdown",
   "id": "565a8282-74af-4ffd-b6cf-0c483cf9588f",
   "metadata": {},
   "source": [
    "&#9989; **Question 5.1 Write code for the above task using linear programming (3 points):** "
   ]
  },
  {
   "cell_type": "code",
   "execution_count": null,
   "id": "4c321a9f-e981-4657-ad7a-c83eaa777bdb",
   "metadata": {},
   "outputs": [],
   "source": [
    "### Put your code here"
   ]
  },
  {
   "cell_type": "markdown",
   "id": "0e6d60bd-78fc-4aad-a488-4dbe6cbf762f",
   "metadata": {},
   "source": [
    "&#9989; **Question 5.2 Write code for the above task using functional programming (3 points):** "
   ]
  },
  {
   "cell_type": "code",
   "execution_count": null,
   "id": "647cf0e9-9009-4cda-909c-0aa8107dff4e",
   "metadata": {},
   "outputs": [],
   "source": [
    "### Put your code here"
   ]
  },
  {
   "cell_type": "markdown",
   "id": "7c98bcff-f743-46c9-937f-e493e92666f5",
   "metadata": {},
   "source": [
    "&#9989; **Question 5.3 Write code for the above task using object-oriented programming (3 points):** "
   ]
  },
  {
   "cell_type": "code",
   "execution_count": null,
   "id": "06556500-bcd9-4f3e-8b26-92fd4db2b945",
   "metadata": {},
   "outputs": [],
   "source": [
    "### Put your code here"
   ]
  },
  {
   "cell_type": "markdown",
   "id": "23fa07a7-a7ae-42bd-8c2b-0378bb299852",
   "metadata": {},
   "source": [
    "&#9989; **Question 5.4 Which method do you think was best suited for this problem and why? (2 points):** "
   ]
  },
  {
   "cell_type": "markdown",
   "id": "5e8e38cf-1f3c-4711-b90a-227424e39219",
   "metadata": {},
   "source": [
    "### Put your answer here"
   ]
  },
  {
   "cell_type": "markdown",
   "id": "14435d84-82d4-4ffc-82b9-3188de6c7103",
   "metadata": {},
   "source": [
    "---\n",
    "### &#128721; STOP (1 point)\n",
    "**Pause to commit your changes to your Git repository!**\n",
    "\n",
    "Take a moment to save your notebook, commit  and push the changes to your Git repository.\n",
    "\n",
    "---"
   ]
  },
  {
   "cell_type": "markdown",
   "id": "868efbc9",
   "metadata": {
    "jp-MarkdownHeadingCollapsed": true,
    "tags": []
   },
   "source": [
    "## You're done! Congrats on finishing your CMSE 202 Midterm!\n",
    "\n",
    "Make sure all of your changes to your repository are committed and pushed to GitHub. Also upload a copy of this notebook to the dropbox on D2L in case something went wrong with your repository or if you couldn't get the repository to work."
   ]
  }
 ],
 "metadata": {
  "kernelspec": {
   "display_name": "Python 3.12 (default)",
   "language": "python",
   "name": "python3"
  },
  "language_info": {
   "codemirror_mode": {
    "name": "ipython",
    "version": 3
   },
   "file_extension": ".py",
   "mimetype": "text/x-python",
   "name": "python",
   "nbconvert_exporter": "python",
   "pygments_lexer": "ipython3",
   "version": "3.12.11"
  }
 },
 "nbformat": 4,
 "nbformat_minor": 5
}
